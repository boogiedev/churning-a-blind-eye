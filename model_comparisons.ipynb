{
 "cells": [
  {
   "cell_type": "code",
   "execution_count": 1,
   "metadata": {},
   "outputs": [],
   "source": [
    "%load_ext autoreload\n",
    "%autoreload 2"
   ]
  },
  {
   "cell_type": "code",
   "execution_count": 2,
   "metadata": {},
   "outputs": [],
   "source": [
    "# Import Libraries\n",
    "\n",
    "# DS \n",
    "import os\n",
    "from itertools import islice\n",
    "import pandas as pd\n",
    "import numpy as np\n",
    "import matplotlib.pyplot as plt\n",
    "import matplotlib.patches as patches\n",
    "from mpl_toolkits.mplot3d import Axes3D\n",
    "from scipy import stats\n",
    "import seaborn as sns\n",
    "\n",
    "# PLOTLY\n",
    "import plotly.offline as po\n",
    "import plotly.graph_objs as go\n",
    "\n",
    "# SKLEARN\n",
    "from sklearn.preprocessing import MinMaxScaler\n",
    "from sklearn.neighbors import KNeighborsClassifier\n",
    "from sklearn.linear_model import LogisticRegression\n",
    "from sklearn.tree import DecisionTreeRegressor, DecisionTreeClassifier, plot_tree\n",
    "from sklearn.ensemble import (GradientBoostingRegressor, \n",
    "                              GradientBoostingClassifier, \n",
    "                              AdaBoostClassifier,\n",
    "                              AdaBoostRegressor,\n",
    "                              RandomForestRegressor,\n",
    "                              RandomForestClassifier)\n",
    "from sklearn.model_selection import train_test_split, cross_val_score\n",
    "from sklearn.model_selection import GridSearchCV\n",
    "from sklearn.metrics import mean_squared_error, r2_score, make_scorer, confusion_matrix, accuracy_score, plot_roc_curve\n",
    "from sklearn.svm import SVC\n",
    "from sklearn.ensemble.partial_dependence import partial_dependence, plot_partial_dependence\n",
    "\n",
    "import warnings\n",
    "warnings.filterwarnings('ignore')\n",
    "# Aesthetic Plots\n",
    "%matplotlib inline\n",
    "\n",
    "\n",
    "# Aesthetic Plots\n",
    "import mplcyberpunk\n",
    "plt.style.use('cyberpunk')\n",
    "%matplotlib inline"
   ]
  },
  {
   "cell_type": "code",
   "execution_count": 3,
   "metadata": {},
   "outputs": [],
   "source": [
    "# Modules\n",
    "from src.data_clean import *\n",
    "from src.grid_search import *\n",
    "from src.helpers import *"
   ]
  },
  {
   "cell_type": "code",
   "execution_count": 4,
   "metadata": {},
   "outputs": [],
   "source": [
    "# GLOBAL VARS\n",
    "FSIZE = (12, 8)"
   ]
  },
  {
   "cell_type": "code",
   "execution_count": 5,
   "metadata": {},
   "outputs": [],
   "source": [
    "# Pre Feature Changes \n",
    "def data_cleaner_pre(df):\n",
    "    #Convert last_trip_date and signup_date to datetime object\n",
    "    df['last_trip_date'] = pd.to_datetime(df['last_trip_date'])\n",
    "    df['signup_date'] = pd.to_datetime(df['signup_date'])\n",
    "    #Convert last_trip_date column to int\n",
    "    df['last_trip_date'] = df['last_trip_date'] <= '2014-06-01'\n",
    "    df['last_trip_date'] = df['last_trip_date'].astype(int)\n",
    "    df['luxury_car_user'] = df['luxury_car_user'].astype(int)\n",
    "    #Drop Columns\n",
    "    df.drop(columns=['signup_date', 'phone'], inplace=True)\n",
    "    #Rename target values\n",
    "    df.rename(columns={'last_trip_date': 'target'}, inplace=True)\n",
    "    #Hot encode categorical features\n",
    "    df = pd.get_dummies(df, columns=['city'])\n",
    "    # Fill in missing values\n",
    "    imputer = SimpleImputer()\n",
    "    df = pd.DataFrame(imputer.fit_transform(df), columns=df.columns)\n",
    "    #Remove Duplicate Rows\n",
    "    df.drop_duplicates()\n",
    "    return df"
   ]
  },
  {
   "cell_type": "code",
   "execution_count": 6,
   "metadata": {},
   "outputs": [],
   "source": [
    "# Original Data\n",
    "original = data_cleaner_pre(pd.read_csv(\"data/churn_train.csv\"))\n",
    "# Create X, y arrays from dataframe\n",
    "X_pre = original\n",
    "y_pre = original.pop(\"target\")\n",
    "\n",
    "# Train Test Split Data\n",
    "# X_train_pre, X_test_pre, y_train_pre, y_test_pre = train_test_split(X, y)"
   ]
  },
  {
   "cell_type": "code",
   "execution_count": 7,
   "metadata": {},
   "outputs": [],
   "source": [
    "# Read and Clean CSV\n",
    "churn = data_cleaner(pd.read_csv(\"data/churn_train.csv\"))"
   ]
  },
  {
   "cell_type": "code",
   "execution_count": 8,
   "metadata": {},
   "outputs": [],
   "source": [
    "# Create X, y arrays from dataframe\n",
    "X = churn\n",
    "y = churn.pop(\"target\")\n",
    "\n",
    "# Train Test Split Data\n",
    "# X_train, X_test, y_train, y_test = train_test_split(X, y)"
   ]
  },
  {
   "cell_type": "markdown",
   "metadata": {},
   "source": [
    "# Model Comparison"
   ]
  },
  {
   "cell_type": "code",
   "execution_count": 9,
   "metadata": {},
   "outputs": [],
   "source": [
    "def get_model_scores(X, y):\n",
    "    X_train, X_test, y_train, y_test = train_test_split(X, y, random_state=50)    \n",
    "    #Fit the logistic Regression Model\n",
    "    logmodel = LogisticRegression(random_state = 50)\n",
    "    logmodel.fit(X_train,y_train)\n",
    "\n",
    "    #Predict the value for new, unseen data\n",
    "    pred = logmodel.predict(X_test)\n",
    "\n",
    "    # Find Accuracy using accuracy_score method\n",
    "    logmodel_accuracy = round(accuracy_score(y_test, pred) * 100, 2)\n",
    "\n",
    "    # Scaler\n",
    "    scaler = MinMaxScaler()\n",
    "\n",
    "    #Fit the K-Nearest Neighbor Model\n",
    "    knnmodel = KNeighborsClassifier(n_neighbors=20, metric='minkowski', p=2) #p=2 represents Euclidean distance, p=1 represents Manhattan Distance\n",
    "    knnmodel.fit(scaler.fit_transform(X_train), y_train) \n",
    "\n",
    "    #Predict the value for new, unseen data\n",
    "    knn_pred = knnmodel.predict(X_test)\n",
    "\n",
    "    # Find Accuracy using accuracy_score method\n",
    "    knn_accuracy = round(accuracy_score(y_test, knn_pred) * 100, 2)\n",
    "\n",
    "    #Fit the Decision Tree Classification Model\n",
    "    dtmodel = DecisionTreeClassifier(criterion = \"gini\", random_state = 50)\n",
    "    dtmodel.fit(X_train, y_train) \n",
    "\n",
    "    #Predict the value for new, unseen data\n",
    "    dt_pred = dtmodel.predict(X_test)\n",
    "\n",
    "    # Find Accuracy using accuracy_score method\n",
    "    dt_accuracy = round(accuracy_score(y_test, dt_pred) * 100, 2)\n",
    "\n",
    "    #Fit the Random Forest Classification Model\n",
    "    rfmodel = RandomForestClassifier(n_estimators = 100, criterion = 'entropy', random_state = 0)\n",
    "    rfmodel.fit(X_train, y_train) \n",
    "\n",
    "    #Predict the value for new, unseen data\n",
    "    rf_pred = rfmodel.predict(X_test)\n",
    "\n",
    "    # Find Accuracy using accuracy_score method\n",
    "    rf_accuracy = round(accuracy_score(y_test, rf_pred) * 100, 2)\n",
    "\n",
    "    #Fit the Gradient Boosted Classification Model\n",
    "    gbmodel = GradientBoostingClassifier(random_state=50)\n",
    "    gbmodel.fit(X_train,y_train)\n",
    "\n",
    "    #Predict the value for new, unseen data\n",
    "    pred = gbmodel.predict(X_test)\n",
    "\n",
    "    # Find Accuracy using accuracy_score method\n",
    "    gbmodel_accuracy = round(accuracy_score(y_test, pred) * 100, 2)\n",
    "\n",
    "    #Fit the Gradient Boosted Classification Model\n",
    "    gbmodel_grid = GradientBoostingClassifier(learning_rate=0.1,\n",
    "                                         max_depth=6,\n",
    "                                         max_features=0.3,\n",
    "                                         min_samples_leaf=10,\n",
    "                                         n_estimators=100,\n",
    "                                         random_state=50)\n",
    "    gbmodel_grid.fit(X_train,y_train)\n",
    "\n",
    "    #Predict the value for new, unseen data\n",
    "    pred = gbmodel_grid.predict(X_test)\n",
    "\n",
    "    # Find Accuracy using accuracy_score method\n",
    "    gbmodel_grid_accuracy = round(accuracy_score(y_test, pred) * 100, 2)\n",
    "    \n",
    "    #Fit the Gradient Boosted Classification Model\n",
    "    gbmodel_grid_cv = GradientBoostingClassifier(learning_rate=0.2,\n",
    "                                         max_depth=4,\n",
    "                                         max_features=9,\n",
    "                                         min_samples_leaf=2,\n",
    "                                         n_estimators=150,\n",
    "                                         random_state=50)\n",
    "    gbmodel_grid_cv.fit(X_train,y_train)\n",
    "\n",
    "    #Predict the value for new, unseen data\n",
    "    pred = gbmodel_grid_cv.predict(X_test)\n",
    "\n",
    "    # Find Accuracy using accuracy_score method\n",
    "    gbmodel_grid_cv_accuracy = round(accuracy_score(y_test, pred) * 100, 2)\n",
    "    \n",
    "    return [logmodel_accuracy, knn_accuracy, dt_accuracy, rf_accuracy, gbmodel_accuracy, gbmodel_grid_accuracy, gbmodel_grid_cv_accuracy]"
   ]
  },
  {
   "cell_type": "markdown",
   "metadata": {},
   "source": [
    "> Gradient Boosted Classification (POST GRID)"
   ]
  },
  {
   "cell_type": "markdown",
   "metadata": {},
   "source": [
    "```\n",
    "'learning_rate': 0.1,\n",
    "'max_depth': 6,\n",
    "'max_features': 0.3,\n",
    "'min_samples_leaf': 10,\n",
    "'n_estimators': 100,\n",
    "'random_state': 50\n",
    "```"
   ]
  },
  {
   "cell_type": "markdown",
   "metadata": {},
   "source": [
    "> Gradient Boosted Classification (POST GRID CV)"
   ]
  },
  {
   "cell_type": "markdown",
   "metadata": {},
   "source": [
    "```\n",
    " 'learning_rate': 0.2,\n",
    " 'loss': 'exponential',\n",
    " 'max_depth': 4,\n",
    " 'max_features': 9,\n",
    " 'min_samples_leaf': 2,\n",
    " 'n_estimators': 150\n",
    "```"
   ]
  },
  {
   "cell_type": "code",
   "execution_count": 10,
   "metadata": {},
   "outputs": [
    {
     "data": {
      "text/html": [
       "<div>\n",
       "<style scoped>\n",
       "    .dataframe tbody tr th:only-of-type {\n",
       "        vertical-align: middle;\n",
       "    }\n",
       "\n",
       "    .dataframe tbody tr th {\n",
       "        vertical-align: top;\n",
       "    }\n",
       "\n",
       "    .dataframe thead th {\n",
       "        text-align: right;\n",
       "    }\n",
       "</style>\n",
       "<table border=\"1\" class=\"dataframe\">\n",
       "  <thead>\n",
       "    <tr style=\"text-align: right;\">\n",
       "      <th></th>\n",
       "      <th>Score (Pre)</th>\n",
       "      <th>Model</th>\n",
       "    </tr>\n",
       "  </thead>\n",
       "  <tbody>\n",
       "    <tr>\n",
       "      <th>0</th>\n",
       "      <td>78.56</td>\n",
       "      <td>Gradient Boosting Classifier (POST GRID CV)</td>\n",
       "    </tr>\n",
       "    <tr>\n",
       "      <th>1</th>\n",
       "      <td>78.55</td>\n",
       "      <td>Gradient Boosting Classifier (POST GRID)</td>\n",
       "    </tr>\n",
       "    <tr>\n",
       "      <th>2</th>\n",
       "      <td>78.07</td>\n",
       "      <td>Gradient Boosting Classifier</td>\n",
       "    </tr>\n",
       "    <tr>\n",
       "      <th>3</th>\n",
       "      <td>75.60</td>\n",
       "      <td>Random Forest</td>\n",
       "    </tr>\n",
       "    <tr>\n",
       "      <th>4</th>\n",
       "      <td>71.08</td>\n",
       "      <td>Logistic Regression</td>\n",
       "    </tr>\n",
       "    <tr>\n",
       "      <th>5</th>\n",
       "      <td>69.63</td>\n",
       "      <td>Decision Tree</td>\n",
       "    </tr>\n",
       "    <tr>\n",
       "      <th>6</th>\n",
       "      <td>63.85</td>\n",
       "      <td>K-Nearest Neighbor</td>\n",
       "    </tr>\n",
       "  </tbody>\n",
       "</table>\n",
       "</div>"
      ],
      "text/plain": [
       "   Score (Pre)                                        Model\n",
       "0        78.56  Gradient Boosting Classifier (POST GRID CV)\n",
       "1        78.55     Gradient Boosting Classifier (POST GRID)\n",
       "2        78.07                 Gradient Boosting Classifier\n",
       "3        75.60                                Random Forest\n",
       "4        71.08                          Logistic Regression\n",
       "5        69.63                                Decision Tree\n",
       "6        63.85                           K-Nearest Neighbor"
      ]
     },
     "execution_count": 10,
     "metadata": {},
     "output_type": "execute_result"
    }
   ],
   "source": [
    "scores_pre = get_model_scores(X_pre, y_pre)\n",
    "# Compare Several models according to their Accuracies\n",
    "Model_Comparison = pd.DataFrame({\n",
    "    'Model': ['Logistic Regression', 'K-Nearest Neighbor', \n",
    "              'Decision Tree', 'Random Forest', 'Gradient Boosting Classifier', 'Gradient Boosting Classifier (POST GRID)', 'Gradient Boosting Classifier (POST GRID CV)'],\n",
    "    'Score (Pre)': scores_pre})\n",
    "Model_Comparison_df = Model_Comparison.sort_values(by='Score (Pre)', ascending=False)\n",
    "Model_Comparison_df = Model_Comparison_df.set_index('Score (Pre)')\n",
    "Model_Comparison_df.reset_index()"
   ]
  },
  {
   "cell_type": "code",
   "execution_count": 11,
   "metadata": {},
   "outputs": [
    {
     "data": {
      "text/html": [
       "<div>\n",
       "<style scoped>\n",
       "    .dataframe tbody tr th:only-of-type {\n",
       "        vertical-align: middle;\n",
       "    }\n",
       "\n",
       "    .dataframe tbody tr th {\n",
       "        vertical-align: top;\n",
       "    }\n",
       "\n",
       "    .dataframe thead th {\n",
       "        text-align: right;\n",
       "    }\n",
       "</style>\n",
       "<table border=\"1\" class=\"dataframe\">\n",
       "  <thead>\n",
       "    <tr style=\"text-align: right;\">\n",
       "      <th></th>\n",
       "      <th>Scores Post</th>\n",
       "      <th>Model</th>\n",
       "    </tr>\n",
       "  </thead>\n",
       "  <tbody>\n",
       "    <tr>\n",
       "      <th>0</th>\n",
       "      <td>78.29</td>\n",
       "      <td>Gradient Boosting Classifier (POST GRID CV)</td>\n",
       "    </tr>\n",
       "    <tr>\n",
       "      <th>1</th>\n",
       "      <td>78.17</td>\n",
       "      <td>Gradient Boosting Classifier (POST GRID)</td>\n",
       "    </tr>\n",
       "    <tr>\n",
       "      <th>2</th>\n",
       "      <td>77.88</td>\n",
       "      <td>Gradient Boosting Classifier</td>\n",
       "    </tr>\n",
       "    <tr>\n",
       "      <th>3</th>\n",
       "      <td>74.32</td>\n",
       "      <td>Random Forest</td>\n",
       "    </tr>\n",
       "    <tr>\n",
       "      <th>4</th>\n",
       "      <td>71.54</td>\n",
       "      <td>Logistic Regression</td>\n",
       "    </tr>\n",
       "    <tr>\n",
       "      <th>5</th>\n",
       "      <td>69.43</td>\n",
       "      <td>Decision Tree</td>\n",
       "    </tr>\n",
       "    <tr>\n",
       "      <th>6</th>\n",
       "      <td>63.58</td>\n",
       "      <td>K-Nearest Neighbor</td>\n",
       "    </tr>\n",
       "  </tbody>\n",
       "</table>\n",
       "</div>"
      ],
      "text/plain": [
       "   Scores Post                                        Model\n",
       "0        78.29  Gradient Boosting Classifier (POST GRID CV)\n",
       "1        78.17     Gradient Boosting Classifier (POST GRID)\n",
       "2        77.88                 Gradient Boosting Classifier\n",
       "3        74.32                                Random Forest\n",
       "4        71.54                          Logistic Regression\n",
       "5        69.43                                Decision Tree\n",
       "6        63.58                           K-Nearest Neighbor"
      ]
     },
     "execution_count": 11,
     "metadata": {},
     "output_type": "execute_result"
    }
   ],
   "source": [
    "scores_post = get_model_scores(X, y)\n",
    "# Compare Several models according to their Accuracies\n",
    "Model_Comparison = pd.DataFrame({\n",
    "    'Model': ['Logistic Regression', 'K-Nearest Neighbor', \n",
    "              'Decision Tree', 'Random Forest', 'Gradient Boosting Classifier', 'Gradient Boosting Classifier (POST GRID)', 'Gradient Boosting Classifier (POST GRID CV)'],\n",
    "    'Scores Post': scores_post})\n",
    "Model_Comparison_df = Model_Comparison.sort_values(by='Scores Post', ascending=False)\n",
    "Model_Comparison_df = Model_Comparison_df.set_index('Scores Post')\n",
    "Model_Comparison_df.reset_index()"
   ]
  },
  {
   "cell_type": "code",
   "execution_count": 12,
   "metadata": {},
   "outputs": [],
   "source": [
    "X_train, X_test, y_train, y_test = train_test_split(X, y, random_state=50)    \n",
    "\n",
    "#Fit the Gradient Boosted Classification Model | OUR BEST MODEL\n",
    "gbmodel_grid_cv = GradientBoostingClassifier(learning_rate=0.2,\n",
    "                                     max_depth=4,\n",
    "                                     max_features=9,\n",
    "                                     min_samples_leaf=2,\n",
    "                                     n_estimators=150,\n",
    "                                     random_state=50)\n",
    "gbmodel_grid_cv.fit(X_train ,y_train)\n",
    "\n",
    "#Predict the value for new, unseen data\n",
    "pred = gbmodel_grid_cv.predict(X_test)"
   ]
  },
  {
   "cell_type": "code",
   "execution_count": 13,
   "metadata": {},
   "outputs": [
    {
     "data": {
      "text/plain": [
       "<sklearn.metrics._plot.roc_curve.RocCurveDisplay at 0x7f1070023d10>"
      ]
     },
     "execution_count": 13,
     "metadata": {},
     "output_type": "execute_result"
    },
    {
     "data": {
      "image/png": "[encoded data removed]",
      "text/plain": [
       "<Figure size 864x576 with 1 Axes>"
      ]
     },
     "metadata": {
      "needs_background": "dark"
     },
     "output_type": "display_data"
    }
   ],
   "source": [
    "# Plot ROC Curve\n",
    "fig, ax = plt.subplots(figsize=FSIZE)\n",
    "plot_roc_curve(gbmodel_grid_cv, X_train, y_train, ax=ax)"
   ]
  },
  {
   "cell_type": "code",
   "execution_count": 14,
   "metadata": {},
   "outputs": [
    {
     "data": {
      "text/plain": [
       "(2314, 1169, 867, 5030)"
      ]
     },
     "execution_count": 14,
     "metadata": {},
     "output_type": "execute_result"
    }
   ],
   "source": [
    "# Confusion Matrix GBC POST GRID CV\n",
    "true_neg, false_pos, false_neg, true_pos = confusion_matrix(y_test, pred).flatten()\n",
    "true_neg, false_pos, false_neg, true_pos"
   ]
  },
  {
   "cell_type": "markdown",
   "metadata": {},
   "source": [
    "| -        |       Predicted Negative      |  Predicted Positive |\n",
    "| ------------- |:-------------:| -----:|\n",
    "| Actual Negative | 2314 (TN)  | 1169 (FP)\n",
    "| Actual Positive | 867 (FN) | 5030 (TP)\n",
    "\n",
    "PRECISION / RECALL\n",
    "\n",
    "| -        |       Precision      |  Recall |\n",
    "| ------------- |:-------------:| -----:|\n",
    "| Best | 0.816  | 0.852\n",
    "\n"
   ]
  },
  {
   "cell_type": "code",
   "execution_count": 15,
   "metadata": {},
   "outputs": [
    {
     "data": {
      "text/plain": [
       "0.8114211969672528"
      ]
     },
     "execution_count": 15,
     "metadata": {},
     "output_type": "execute_result"
    }
   ],
   "source": [
    "# Precision GBC\n",
    "precision_after = true_pos / (true_pos + false_pos)\n",
    "precision_after"
   ]
  },
  {
   "cell_type": "code",
   "execution_count": 16,
   "metadata": {},
   "outputs": [
    {
     "data": {
      "text/plain": [
       "0.8529760895370527"
      ]
     },
     "execution_count": 16,
     "metadata": {},
     "output_type": "execute_result"
    }
   ],
   "source": [
    "# Recall GBC\n",
    "recall_after = true_pos / (true_pos + false_neg)\n",
    "recall_after"
   ]
  },
  {
   "cell_type": "markdown",
   "metadata": {},
   "source": [
    "## Evaluating the Performance on Validation Data"
   ]
  },
  {
   "cell_type": "code",
   "execution_count": 17,
   "metadata": {},
   "outputs": [],
   "source": [
    "validation = data_cleaner(pd.read_csv(\"data/churn_test.csv\"))"
   ]
  },
  {
   "cell_type": "code",
   "execution_count": 18,
   "metadata": {},
   "outputs": [],
   "source": [
    "X_validation = validation\n",
    "y_validation = validation.pop('target')"
   ]
  },
  {
   "cell_type": "code",
   "execution_count": 19,
   "metadata": {},
   "outputs": [],
   "source": [
    "pred_validation = gbmodel_grid_cv.predict(X_validation)"
   ]
  },
  {
   "cell_type": "code",
   "execution_count": 20,
   "metadata": {},
   "outputs": [
    {
     "data": {
      "text/plain": [
       "<sklearn.metrics._plot.roc_curve.RocCurveDisplay at 0x7f106feed510>"
      ]
     },
     "execution_count": 20,
     "metadata": {},
     "output_type": "execute_result"
    },
    {
     "data": {
      "image/png": "[encoded data removed]",
      "text/plain": [
       "<Figure size 864x576 with 1 Axes>"
      ]
     },
     "metadata": {
      "needs_background": "dark"
     },
     "output_type": "display_data"
    }
   ],
   "source": [
    "# Plot ROC Curve\n",
    "fig, ax = plt.subplots(figsize=FSIZE)\n",
    "plot_roc_curve(gbmodel_grid_cv, X_validation, y_validation, ax=ax)"
   ]
  },
  {
   "cell_type": "code",
   "execution_count": 21,
   "metadata": {},
   "outputs": [
    {
     "data": {
      "text/plain": [
       "(2332, 1207, 883, 4967)"
      ]
     },
     "execution_count": 21,
     "metadata": {},
     "output_type": "execute_result"
    }
   ],
   "source": [
    "# Confusion Matrix GBC POST GRID CV\n",
    "true_neg, false_pos, false_neg, true_pos = confusion_matrix(y_validation, pred_validation).flatten()\n",
    "true_neg, false_pos, false_neg, true_pos"
   ]
  },
  {
   "cell_type": "code",
   "execution_count": 22,
   "metadata": {},
   "outputs": [
    {
     "data": {
      "text/plain": [
       "0.8045027534823453"
      ]
     },
     "execution_count": 22,
     "metadata": {},
     "output_type": "execute_result"
    }
   ],
   "source": [
    "# Precision GBC\n",
    "precision_after = true_pos / (true_pos + false_pos)\n",
    "precision_after"
   ]
  },
  {
   "cell_type": "code",
   "execution_count": 23,
   "metadata": {},
   "outputs": [
    {
     "data": {
      "text/plain": [
       "0.849059829059829"
      ]
     },
     "execution_count": 23,
     "metadata": {},
     "output_type": "execute_result"
    }
   ],
   "source": [
    "# Recall GBC\n",
    "recall_after = true_pos / (true_pos + false_neg)\n",
    "recall_after"
   ]
  },
  {
   "cell_type": "markdown",
   "metadata": {},
   "source": [
    "| -        |       Predicted Negative      |  Predicted Positive |\n",
    "| ------------- |:-------------:| -----:|\n",
    "| Actual Negative | 2332 (TN)  | 1207 (FP)\n",
    "| Actual Positive | 883 (FN) | 4967 (TP)\n",
    "\n",
    "PRECISION / RECALL\n",
    "\n",
    "| -        |       Precision      |  Recall |\n",
    "| ------------- |:-------------:| -----:|\n",
    "| Best | 0.805  | 0.849"
   ]
  },
  {
   "cell_type": "code",
   "execution_count": null,
   "metadata": {},
   "outputs": [],
   "source": []
  }
 ],
 "metadata": {
  "kernelspec": {
   "display_name": "Python 3",
   "language": "python",
   "name": "python3"
  },
  "language_info": {
   "codemirror_mode": {
    "name": "ipython",
    "version": 3
   },
   "file_extension": ".py",
   "mimetype": "text/x-python",
   "name": "python",
   "nbconvert_exporter": "python",
   "pygments_lexer": "ipython3",
   "version": "3.7.6"
  },
  "widgets": {
   "application/vnd.jupyter.widget-state+json": {
    "state": {},
    "version_major": 2,
    "version_minor": 0
   }
  }
 },
 "nbformat": 4,
 "nbformat_minor": 4
}
