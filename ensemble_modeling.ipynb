{
 "cells": [
  {
   "cell_type": "code",
   "execution_count": 1,
   "metadata": {},
   "outputs": [],
   "source": [
    "%load_ext autoreload\n",
    "%autoreload 2"
   ]
  },
  {
   "cell_type": "code",
   "execution_count": 83,
   "metadata": {},
   "outputs": [],
   "source": [
    "# Import Libraries\n",
    "\n",
    "# DS \n",
    "import os\n",
    "from itertools import islice\n",
    "import pandas as pd\n",
    "import numpy as np\n",
    "import matplotlib.pyplot as plt\n",
    "import matplotlib.patches as patches\n",
    "from mpl_toolkits.mplot3d import Axes3D\n",
    "from scipy import stats\n",
    "import seaborn as sns\n",
    "\n",
    "# PLOTLY\n",
    "import plotly.offline as po\n",
    "import plotly.graph_objs as go\n",
    "\n",
    "# SKLEARN\n",
    "from sklearn.tree import DecisionTreeRegressor, plot_tree\n",
    "from sklearn.ensemble import (GradientBoostingRegressor, \n",
    "                              GradientBoostingClassifier, \n",
    "                              AdaBoostClassifier,\n",
    "                              AdaBoostRegressor,\n",
    "                              RandomForestRegressor,\n",
    "                              RandomForestClassifier)\n",
    "from sklearn.model_selection import train_test_split, cross_val_score\n",
    "from sklearn.model_selection import GridSearchCV\n",
    "from sklearn.metrics import mean_squared_error, r2_score, make_scorer, confusion_matrix, accuracy_score, plot_roc_curve\n",
    "from sklearn.svm import SVC\n",
    "from sklearn.ensemble.partial_dependence import partial_dependence, plot_partial_dependence\n",
    "\n",
    "# Aesthetic Plots\n",
    "import mplcyberpunk\n",
    "plt.style.use('cyberpunk')\n",
    "%matplotlib inline"
   ]
  },
  {
   "cell_type": "code",
   "execution_count": 27,
   "metadata": {},
   "outputs": [],
   "source": [
    "# Modules\n",
    "from src.data_clean import *\n",
    "from src.grid_search import *"
   ]
  },
  {
   "cell_type": "code",
   "execution_count": 4,
   "metadata": {},
   "outputs": [],
   "source": [
    "# GLOBAL VARS\n",
    "FSIZE = (12, 8)"
   ]
  },
  {
   "cell_type": "code",
   "execution_count": 82,
   "metadata": {},
   "outputs": [],
   "source": [
    "# Helper Functions\n",
    "def get_score(model, X, y) -> tuple:\n",
    "    mse = np.mean(cross_val_score(model, X, y, scoring=make_scorer(mean_squared_error)))\n",
    "    r2 = np.mean(cross_val_score(model, X, y, scoring=make_scorer(r2_score)))\n",
    "    acc = np.mean(cross_val_score(model, X, y, scoring=\"accuracy\"))\n",
    "    print(f\"\"\"{model.__class__.__name__}     Train CV | MSE: {mse} | R2: {r2} | Acc: {acc}\"\"\")\n",
    "    return mse, r2, acc\n",
    "def display_score_metrics(model, y_pred, y_test) -> tuple:\n",
    "    mse = mean_squared_error(y_test, y_pred)\n",
    "    r2 = r2_score(y_test, y_pred)\n",
    "    acc = accuracy_score(y_test, y_pred)\n",
    "    print(f\"\"\"{model.__class__.__name__}     Train CV | MSE: {mse} | R2: {r2} | Acc: {acc}\"\"\")\n",
    "    return mse, r2, acc\n",
    "\n",
    "def plot_ROC(model, X_train, y_train, X_test, y_test):\n",
    "    model.fit(X_train,y_train)\n",
    "\n",
    "    y_pred = model.predict(X_test)\n",
    "    y_predproba = model.predict_proba(X_test)\n",
    "    fpr, tpr, thresholds = roc_curve(y_test.values, y_predproba[:,1])\n",
    "    auc = roc_auc_score(y_test,y_pred)\n",
    "    \n",
    "    fig,ax = plt.subplots(1,1,figsize=(12,10))\n",
    "    ax.plot(fpr,tpr,label='{}: {}'.format(model.__class__.__name__, auc), marker='*', color='green')\n",
    "    ax.plot([0,1],[0,1], 'k:')\n",
    "    ax.set_xlabel(\"False Positive Rate (FPR)\")\n",
    "    ax.set_ylabel(\"True Positive Rate (TPR)\")\n",
    "    ax.set_title(\"ROC Curve for {} Model\".format(modelname))\n",
    "    ax.legend(loc='lower right')\n"
   ]
  },
  {
   "cell_type": "markdown",
   "metadata": {},
   "source": [
    "# Create Basline Models"
   ]
  },
  {
   "cell_type": "code",
   "execution_count": 73,
   "metadata": {},
   "outputs": [],
   "source": [
    "# Read and Clean CSV\n",
    "churn = data_cleaner(pd.read_csv(\"data/churn_train.csv\"))"
   ]
  },
  {
   "cell_type": "code",
   "execution_count": 74,
   "metadata": {},
   "outputs": [
    {
     "data": {
      "text/html": [
       "<div>\n",
       "<style scoped>\n",
       "    .dataframe tbody tr th:only-of-type {\n",
       "        vertical-align: middle;\n",
       "    }\n",
       "\n",
       "    .dataframe tbody tr th {\n",
       "        vertical-align: top;\n",
       "    }\n",
       "\n",
       "    .dataframe thead th {\n",
       "        text-align: right;\n",
       "    }\n",
       "</style>\n",
       "<table border=\"1\" class=\"dataframe\">\n",
       "  <thead>\n",
       "    <tr style=\"text-align: right;\">\n",
       "      <th></th>\n",
       "      <th>avg_dist</th>\n",
       "      <th>avg_rating_by_driver</th>\n",
       "      <th>avg_rating_of_driver</th>\n",
       "      <th>avg_surge</th>\n",
       "      <th>target</th>\n",
       "      <th>surge_pct</th>\n",
       "      <th>trips_in_first_30_days</th>\n",
       "      <th>luxury_car_user</th>\n",
       "      <th>weekday_pct</th>\n",
       "      <th>city_Astapor</th>\n",
       "      <th>city_King's Landing</th>\n",
       "      <th>city_Winterfell</th>\n",
       "      <th>phone_Android</th>\n",
       "      <th>phone_iPhone</th>\n",
       "    </tr>\n",
       "  </thead>\n",
       "  <tbody>\n",
       "    <tr>\n",
       "      <th>0</th>\n",
       "      <td>6.94</td>\n",
       "      <td>5.0</td>\n",
       "      <td>5.000000</td>\n",
       "      <td>1.00</td>\n",
       "      <td>1.0</td>\n",
       "      <td>0.0</td>\n",
       "      <td>0.0</td>\n",
       "      <td>0.0</td>\n",
       "      <td>100.0</td>\n",
       "      <td>1.0</td>\n",
       "      <td>0.0</td>\n",
       "      <td>0.0</td>\n",
       "      <td>1.0</td>\n",
       "      <td>0.0</td>\n",
       "    </tr>\n",
       "    <tr>\n",
       "      <th>1</th>\n",
       "      <td>8.06</td>\n",
       "      <td>5.0</td>\n",
       "      <td>5.000000</td>\n",
       "      <td>1.00</td>\n",
       "      <td>1.0</td>\n",
       "      <td>0.0</td>\n",
       "      <td>2.0</td>\n",
       "      <td>1.0</td>\n",
       "      <td>0.0</td>\n",
       "      <td>1.0</td>\n",
       "      <td>0.0</td>\n",
       "      <td>0.0</td>\n",
       "      <td>1.0</td>\n",
       "      <td>0.0</td>\n",
       "    </tr>\n",
       "    <tr>\n",
       "      <th>2</th>\n",
       "      <td>21.50</td>\n",
       "      <td>4.0</td>\n",
       "      <td>4.601697</td>\n",
       "      <td>1.00</td>\n",
       "      <td>1.0</td>\n",
       "      <td>0.0</td>\n",
       "      <td>1.0</td>\n",
       "      <td>1.0</td>\n",
       "      <td>100.0</td>\n",
       "      <td>0.0</td>\n",
       "      <td>0.0</td>\n",
       "      <td>1.0</td>\n",
       "      <td>0.0</td>\n",
       "      <td>1.0</td>\n",
       "    </tr>\n",
       "    <tr>\n",
       "      <th>3</th>\n",
       "      <td>9.46</td>\n",
       "      <td>5.0</td>\n",
       "      <td>4.601697</td>\n",
       "      <td>2.75</td>\n",
       "      <td>1.0</td>\n",
       "      <td>100.0</td>\n",
       "      <td>1.0</td>\n",
       "      <td>0.0</td>\n",
       "      <td>100.0</td>\n",
       "      <td>0.0</td>\n",
       "      <td>0.0</td>\n",
       "      <td>1.0</td>\n",
       "      <td>1.0</td>\n",
       "      <td>0.0</td>\n",
       "    </tr>\n",
       "    <tr>\n",
       "      <th>4</th>\n",
       "      <td>13.77</td>\n",
       "      <td>5.0</td>\n",
       "      <td>4.601697</td>\n",
       "      <td>1.00</td>\n",
       "      <td>1.0</td>\n",
       "      <td>0.0</td>\n",
       "      <td>0.0</td>\n",
       "      <td>0.0</td>\n",
       "      <td>100.0</td>\n",
       "      <td>0.0</td>\n",
       "      <td>0.0</td>\n",
       "      <td>1.0</td>\n",
       "      <td>0.0</td>\n",
       "      <td>1.0</td>\n",
       "    </tr>\n",
       "  </tbody>\n",
       "</table>\n",
       "</div>"
      ],
      "text/plain": [
       "   avg_dist  avg_rating_by_driver  avg_rating_of_driver  avg_surge  target  \\\n",
       "0      6.94                   5.0              5.000000       1.00     1.0   \n",
       "1      8.06                   5.0              5.000000       1.00     1.0   \n",
       "2     21.50                   4.0              4.601697       1.00     1.0   \n",
       "3      9.46                   5.0              4.601697       2.75     1.0   \n",
       "4     13.77                   5.0              4.601697       1.00     1.0   \n",
       "\n",
       "   surge_pct  trips_in_first_30_days  luxury_car_user  weekday_pct  \\\n",
       "0        0.0                     0.0              0.0        100.0   \n",
       "1        0.0                     2.0              1.0          0.0   \n",
       "2        0.0                     1.0              1.0        100.0   \n",
       "3      100.0                     1.0              0.0        100.0   \n",
       "4        0.0                     0.0              0.0        100.0   \n",
       "\n",
       "   city_Astapor  city_King's Landing  city_Winterfell  phone_Android  \\\n",
       "0           1.0                  0.0              0.0            1.0   \n",
       "1           1.0                  0.0              0.0            1.0   \n",
       "2           0.0                  0.0              1.0            0.0   \n",
       "3           0.0                  0.0              1.0            1.0   \n",
       "4           0.0                  0.0              1.0            0.0   \n",
       "\n",
       "   phone_iPhone  \n",
       "0           0.0  \n",
       "1           0.0  \n",
       "2           1.0  \n",
       "3           0.0  \n",
       "4           1.0  "
      ]
     },
     "execution_count": 74,
     "metadata": {},
     "output_type": "execute_result"
    }
   ],
   "source": [
    "churn.head()"
   ]
  },
  {
   "cell_type": "code",
   "execution_count": 75,
   "metadata": {},
   "outputs": [],
   "source": [
    "# Create X, y arrays from dataframe\n",
    "X = churn\n",
    "y = churn.pop(\"target\")"
   ]
  },
  {
   "cell_type": "code",
   "execution_count": 76,
   "metadata": {},
   "outputs": [],
   "source": [
    "# Train Test Split Data\n",
    "X_train, X_test, y_train, y_test = train_test_split(X, y)"
   ]
  },
  {
   "cell_type": "markdown",
   "metadata": {},
   "source": [
    "## Random Forest Classifier"
   ]
  },
  {
   "cell_type": "code",
   "execution_count": 77,
   "metadata": {},
   "outputs": [],
   "source": [
    "# Create Random Forest Model\n",
    "model_rf = RandomForestClassifier(\n",
    "                            oob_score=True,\n",
    "                            max_features=3,\n",
    ")"
   ]
  },
  {
   "cell_type": "code",
   "execution_count": 78,
   "metadata": {},
   "outputs": [
    {
     "data": {
      "text/plain": [
       "RandomForestClassifier(bootstrap=True, ccp_alpha=0.0, class_weight=None,\n",
       "                       criterion='gini', max_depth=None, max_features=3,\n",
       "                       max_leaf_nodes=None, max_samples=None,\n",
       "                       min_impurity_decrease=0.0, min_impurity_split=None,\n",
       "                       min_samples_leaf=1, min_samples_split=2,\n",
       "                       min_weight_fraction_leaf=0.0, n_estimators=100,\n",
       "                       n_jobs=None, oob_score=True, random_state=None,\n",
       "                       verbose=0, warm_start=False)"
      ]
     },
     "execution_count": 78,
     "metadata": {},
     "output_type": "execute_result"
    }
   ],
   "source": [
    "# Fit Data\n",
    "model_rf.fit(X_train, y_train)"
   ]
  },
  {
   "cell_type": "code",
   "execution_count": 79,
   "metadata": {},
   "outputs": [
    {
     "data": {
      "text/plain": [
       "<matplotlib.axes._subplots.AxesSubplot at 0x7f3917da7c10>"
      ]
     },
     "execution_count": 79,
     "metadata": {},
     "output_type": "execute_result"
    },
    {
     "data": {
      "image/png": "[encoded data removed]",
      "text/plain": [
       "<Figure size 648x432 with 1 Axes>"
      ]
     },
     "metadata": {
      "needs_background": "dark"
     },
     "output_type": "display_data"
    }
   ],
   "source": [
    "# Feature Importances\n",
    "\n",
    "# See and plot feature importances \n",
    "feat_scores = pd.DataFrame({'Churn Feature Importances' : model_rf.feature_importances_},\n",
    "                           index=X.columns)\n",
    "feat_scores = feat_scores.sort_values(by='Churn Feature Importances')\n",
    "feat_scores.plot(kind='barh', figsize=(9, 6))"
   ]
  },
  {
   "cell_type": "code",
   "execution_count": 13,
   "metadata": {},
   "outputs": [
    {
     "data": {
      "text/plain": [
       "0.7558666666666667"
      ]
     },
     "execution_count": 13,
     "metadata": {},
     "output_type": "execute_result"
    }
   ],
   "source": [
    "# Out of Bag Error\n",
    "model_rf.oob_score_"
   ]
  },
  {
   "cell_type": "code",
   "execution_count": 14,
   "metadata": {},
   "outputs": [],
   "source": [
    "# Prediciton\n",
    "# model_rf.predict(X)"
   ]
  },
  {
   "cell_type": "markdown",
   "metadata": {},
   "source": [
    "#### Random Forest Performance"
   ]
  },
  {
   "cell_type": "code",
   "execution_count": 15,
   "metadata": {},
   "outputs": [],
   "source": [
    "# get_score(model_rf, X_train, y_train)"
   ]
  },
  {
   "cell_type": "markdown",
   "metadata": {},
   "source": [
    "## Gradient Boosting Classifier"
   ]
  },
  {
   "cell_type": "code",
   "execution_count": 16,
   "metadata": {},
   "outputs": [],
   "source": [
    "# Create Gradient Boosting Model\n",
    "model_gb = GradientBoostingClassifier(learning_rate=0.1,\n",
    "                                      n_estimators=100,\n",
    "                                      random_state=1)"
   ]
  },
  {
   "cell_type": "code",
   "execution_count": 17,
   "metadata": {},
   "outputs": [
    {
     "data": {
      "text/plain": [
       "GradientBoostingClassifier(ccp_alpha=0.0, criterion='friedman_mse', init=None,\n",
       "                           learning_rate=0.1, loss='deviance', max_depth=3,\n",
       "                           max_features=None, max_leaf_nodes=None,\n",
       "                           min_impurity_decrease=0.0, min_impurity_split=None,\n",
       "                           min_samples_leaf=1, min_samples_split=2,\n",
       "                           min_weight_fraction_leaf=0.0, n_estimators=100,\n",
       "                           n_iter_no_change=None, presort='deprecated',\n",
       "                           random_state=1, subsample=1.0, tol=0.0001,\n",
       "                           validation_fraction=0.1, verbose=0,\n",
       "                           warm_start=False)"
      ]
     },
     "execution_count": 17,
     "metadata": {},
     "output_type": "execute_result"
    }
   ],
   "source": [
    "# Fit Model\n",
    "model_gb.fit(X_train, y_train)"
   ]
  },
  {
   "cell_type": "code",
   "execution_count": 18,
   "metadata": {},
   "outputs": [],
   "source": [
    "# Prediction\n",
    "y_pred_gb = model_gb.predict(X_test)"
   ]
  },
  {
   "cell_type": "code",
   "execution_count": 19,
   "metadata": {},
   "outputs": [
    {
     "data": {
      "text/plain": [
       "13"
      ]
     },
     "execution_count": 19,
     "metadata": {},
     "output_type": "execute_result"
    }
   ],
   "source": [
    "# Feature Importances\n",
    "feat_scores = pd.DataFrame({'Churn Feature Importances GDBC' : model_gb.feature_importances_}, index=X.columns)\n",
    "feat_scores = feat_scores.sort_values(by='Churn Feature Importances GDBC')"
   ]
  },
  {
   "cell_type": "code",
   "execution_count": 20,
   "metadata": {},
   "outputs": [
    {
     "data": {
      "image/png": "[encoded data removed]",
      "text/plain": [
       "<Figure size 960x640 with 1 Axes>"
      ]
     },
     "metadata": {
      "needs_background": "dark"
     },
     "output_type": "display_data"
    }
   ],
   "source": [
    "# See and plot feature importances \n",
    "\n",
    "fig, ax = plt.subplots(figsize=FSIZE, dpi=80, )\n",
    "ax.vlines(x=range(1, feat_scores.size + 1), ymin=0, ymax=(feat_scores[\"Churn Feature Importances GDBC\"]), color=\"white\", alpha=0.6, linewidth=20, edgecolors=\"white\")\n",
    "\n",
    "\n",
    "# Title, Label, Ticks and Ylim\n",
    "ax.set_title('Feature Importances', fontdict={'size':22})\n",
    "ax.set(xlabel='Feature', ylim=(0, np.max(feat_scores[\"Churn Feature Importances GDBC\"])))\n",
    "ax.set(ylabel='Importance')\n",
    "\n",
    "plt.xticks(range(1, feat_scores.size + 1), feat_scores.index, rotation=60, horizontalalignment='right', fontsize=12)\n",
    "\n",
    "mplcyberpunk.add_glow_effects()\n",
    "mplcyberpunk.add_underglow()\n",
    "\n",
    "fig.tight_layout()\n",
    "plt.show()"
   ]
  },
  {
   "cell_type": "markdown",
   "metadata": {},
   "source": [
    "## Sample Tree Plot "
   ]
  },
  {
   "cell_type": "code",
   "execution_count": 21,
   "metadata": {},
   "outputs": [
    {
     "data": {
      "image/png": "[encoded data removed]",
      "text/plain": [
       "<Figure size 1008x720 with 1 Axes>"
      ]
     },
     "metadata": {
      "needs_background": "dark"
     },
     "output_type": "display_data"
    }
   ],
   "source": [
    "fig, ax = plt.subplots(figsize=(14, 10))\n",
    "tree_1 = model_gb.estimators_[0][0]\n",
    "tree_1_plot = plot_tree(tree_1, ax=ax)\n",
    "\n",
    "fig.tight_layout()\n",
    "plt.show()"
   ]
  },
  {
   "cell_type": "markdown",
   "metadata": {},
   "source": [
    "## Confusion Matrix"
   ]
  },
  {
   "cell_type": "code",
   "execution_count": 22,
   "metadata": {},
   "outputs": [
    {
     "data": {
      "text/plain": [
       "(5377, 874, 1261, 2488)"
      ]
     },
     "execution_count": 22,
     "metadata": {},
     "output_type": "execute_result"
    }
   ],
   "source": [
    "# Confusion Matrix GBC\n",
    "true_neg, false_pos, false_neg, true_pos = confusion_matrix(y_test, y_pred_gb).flatten()\n",
    "true_neg, false_pos, false_neg, true_pos"
   ]
  },
  {
   "cell_type": "markdown",
   "metadata": {},
   "source": [
    "| -        |       Predicted Negative      |  Predicted Positive |\n",
    "| ------------- |:-------------:| -----:|\n",
    "| Actual Negative | 5409 (TN)  | 890 (FP)\n",
    "| Actual Positive | 1308 (FN) | 2393 (TP)"
   ]
  },
  {
   "cell_type": "code",
   "execution_count": 23,
   "metadata": {},
   "outputs": [
    {
     "data": {
      "text/plain": [
       "0.7400356930398573"
      ]
     },
     "execution_count": 23,
     "metadata": {},
     "output_type": "execute_result"
    }
   ],
   "source": [
    "# Precision GBC\n",
    "precision = true_pos / (true_pos + false_pos)\n",
    "precision"
   ]
  },
  {
   "cell_type": "code",
   "execution_count": 26,
   "metadata": {},
   "outputs": [
    {
     "data": {
      "text/plain": [
       "0.6636436383035477"
      ]
     },
     "execution_count": 26,
     "metadata": {},
     "output_type": "execute_result"
    }
   ],
   "source": [
    "# Recall GBC\n",
    "recall = true_pos / (true_pos + false_neg)\n",
    "recall"
   ]
  },
  {
   "cell_type": "markdown",
   "metadata": {},
   "source": [
    "#### Gradient Boosting Classifier Peformance"
   ]
  },
  {
   "cell_type": "code",
   "execution_count": 34,
   "metadata": {},
   "outputs": [
    {
     "name": "stdout",
     "output_type": "stream",
     "text": [
      "GradientBoostingClassifier     Train CV | MSE: 0.21303333333333332 | R2: 0.09211914119949474 | Acc: 0.7869666666666666\n"
     ]
    },
    {
     "data": {
      "text/plain": [
       "(0.21303333333333332, 0.09211914119949474, 0.7869666666666666)"
      ]
     },
     "execution_count": 34,
     "metadata": {},
     "output_type": "execute_result"
    }
   ],
   "source": [
    "get_score(model_gb, X_train, y_train)"
   ]
  },
  {
   "cell_type": "markdown",
   "metadata": {},
   "source": [
    "## Gradient Boosting Regression"
   ]
  },
  {
   "cell_type": "code",
   "execution_count": 80,
   "metadata": {},
   "outputs": [],
   "source": [
    "model_gbr = GradientBoostingRegressor(learning_rate=0.1, loss='ls',\n",
    "                                 n_estimators=100, random_state=1)"
   ]
  },
  {
   "cell_type": "markdown",
   "metadata": {},
   "source": [
    "#### Gradient Boosting Regression Peformance"
   ]
  },
  {
   "cell_type": "code",
   "execution_count": 43,
   "metadata": {},
   "outputs": [],
   "source": [
    "# get_score(model_gbr, X_train, y_train)"
   ]
  },
  {
   "cell_type": "markdown",
   "metadata": {},
   "source": [
    "#### Gradient Boosting Grid Search\n",
    "\n",
    "> Find best hyper-parameters for Gradient Boosting"
   ]
  },
  {
   "cell_type": "code",
   "execution_count": 81,
   "metadata": {},
   "outputs": [
    {
     "name": "stdout",
     "output_type": "stream",
     "text": [
      "Fitting 5 folds for each of 144 candidates, totalling 720 fits\n"
     ]
    },
    {
     "name": "stderr",
     "output_type": "stream",
     "text": [
      "[Parallel(n_jobs=-1)]: Using backend LokyBackend with 3 concurrent workers.\n",
      "[Parallel(n_jobs=-1)]: Done  44 tasks      | elapsed:   19.0s\n",
      "[Parallel(n_jobs=-1)]: Done 194 tasks      | elapsed:  2.1min\n",
      "[Parallel(n_jobs=-1)]: Done 444 tasks      | elapsed:  4.7min\n",
      "[Parallel(n_jobs=-1)]: Done 720 out of 720 | elapsed:  7.8min finished\n"
     ]
    },
    {
     "name": "stdout",
     "output_type": "stream",
     "text": [
      "\n",
      "Result of gridsearch:\n",
      "Parameter            | Optimal  | Gridsearch values\n",
      "-------------------------------------------------------\n",
      "learning_rate        | 0.1      | [0.1, 0.05, 0.02, 0.01]\n",
      "max_depth            | 6        | [2, 4, 6]\n",
      "min_samples_leaf     | 10       | [1, 2, 5, 10]\n",
      "max_features         | 0.3      | [1.0, 0.3, 0.1]\n",
      "n_estimators         | 100      | [100]\n",
      "random_state         | 1        | [1]\n",
      "\n",
      "Comparing model with gridsearch params to initial model on Test set.\n"
     ]
    },
    {
     "data": {
      "text/plain": [
       "GradientBoostingRegressor(alpha=0.9, ccp_alpha=0.0, criterion='friedman_mse',\n",
       "                          init=None, learning_rate=0.1, loss='ls', max_depth=3,\n",
       "                          max_features=None, max_leaf_nodes=None,\n",
       "                          min_impurity_decrease=0.0, min_impurity_split=None,\n",
       "                          min_samples_leaf=1, min_samples_split=2,\n",
       "                          min_weight_fraction_leaf=0.0, n_estimators=100,\n",
       "                          n_iter_no_change=None, presort='deprecated',\n",
       "                          random_state=1, subsample=1.0, tol=0.0001,\n",
       "                          validation_fraction=0.1, verbose=0, warm_start=False)"
      ]
     },
     "execution_count": 81,
     "metadata": {},
     "output_type": "execute_result"
    }
   ],
   "source": [
    "# Create Grid Search\n",
    "gradient_boosting_grid = {'learning_rate': [0.1, 0.05, 0.02, 0.01],\n",
    "                          'max_depth': [2, 4, 6],\n",
    "                          'min_samples_leaf': [1, 2, 5, 10],\n",
    "                          'max_features': [1.0, 0.3, 0.1],\n",
    "                          'n_estimators': [100],\n",
    "                          'random_state': [1]}\n",
    "gdbr_best_params, gdbr_best_model = gridsearch_with_output(GradientBoostingRegressor(), \n",
    "                                                           gradient_boosting_grid, \n",
    "                                                           X_train, y_train)\n",
    "print(\"\\nComparing model with gridsearch params to initial model on Test set.\")\n",
    "model_gbr.fit(X_train, y_train)"
   ]
  },
  {
   "cell_type": "code",
   "execution_count": 85,
   "metadata": {},
   "outputs": [
    {
     "name": "stdout",
     "output_type": "stream",
     "text": [
      "Results for GradientBoosting\n",
      "Gridsearched model mse: 0.144 | r2: 0.379\n",
      "     Default model mse: 0.147 | r2: 0.367\n"
     ]
    }
   ],
   "source": [
    "display_default_and_gsearch_model_results(model_gbr, gdbr_best_model, X_test, y_test)"
   ]
  },
  {
   "cell_type": "markdown",
   "metadata": {},
   "source": [
    "#### Grid Search Best Parameters"
   ]
  },
  {
   "cell_type": "code",
   "execution_count": 86,
   "metadata": {},
   "outputs": [
    {
     "data": {
      "text/plain": [
       "{'learning_rate': 0.1,\n",
       " 'max_depth': 6,\n",
       " 'max_features': 0.3,\n",
       " 'min_samples_leaf': 10,\n",
       " 'n_estimators': 100,\n",
       " 'random_state': 1}"
      ]
     },
     "execution_count": 86,
     "metadata": {},
     "output_type": "execute_result"
    }
   ],
   "source": [
    "gdbr_best_params"
   ]
  },
  {
   "cell_type": "code",
   "execution_count": 98,
   "metadata": {},
   "outputs": [],
   "source": [
    "y_pred_gdbr_best = gdbr_best_model.predict(X_test)"
   ]
  },
  {
   "cell_type": "markdown",
   "metadata": {},
   "source": [
    "#### Gradient Boosting Regression Peformance (POST GRID SEARCH)\n",
    "\n",
    "> Baseline Threshold: 0.5"
   ]
  },
  {
   "cell_type": "code",
   "execution_count": 94,
   "metadata": {},
   "outputs": [
    {
     "name": "stdout",
     "output_type": "stream",
     "text": [
      "GradientBoostingRegressor     Train CV | MSE: 0.2053 | R2: 0.1160682855117523 | Acc: 0.7947\n"
     ]
    },
    {
     "data": {
      "text/plain": [
       "(0.2053, 0.1160682855117523, 0.7947)"
      ]
     },
     "execution_count": 94,
     "metadata": {},
     "output_type": "execute_result"
    }
   ],
   "source": [
    "display_score_metrics(gdbr_best_model, (y_pred_gdbr_best >= 0.5).astype(int), y_test)"
   ]
  },
  {
   "cell_type": "markdown",
   "metadata": {},
   "source": [
    "> Baseline Threshold: 0.7"
   ]
  },
  {
   "cell_type": "code",
   "execution_count": 99,
   "metadata": {},
   "outputs": [
    {
     "name": "stdout",
     "output_type": "stream",
     "text": [
      "GradientBoostingRegressor     Train CV | MSE: 0.2454 | R2: -0.056584718633297504 | Acc: 0.7546\n"
     ]
    },
    {
     "data": {
      "text/plain": [
       "(0.2454, -0.056584718633297504, 0.7546)"
      ]
     },
     "execution_count": 99,
     "metadata": {},
     "output_type": "execute_result"
    }
   ],
   "source": [
    "display_score_metrics(gdbr_best_model, (y_pred_gdbr_best >= 0.7).astype(int), y_test)"
   ]
  },
  {
   "cell_type": "markdown",
   "metadata": {},
   "source": [
    "> Baseline Threshold: 0.3"
   ]
  },
  {
   "cell_type": "code",
   "execution_count": 100,
   "metadata": {},
   "outputs": [
    {
     "name": "stdout",
     "output_type": "stream",
     "text": [
      "GradientBoostingRegressor     Train CV | MSE: 0.2373 | R2: -0.021709672908237554 | Acc: 0.7627\n"
     ]
    },
    {
     "data": {
      "text/plain": [
       "(0.2373, -0.021709672908237554, 0.7627)"
      ]
     },
     "execution_count": 100,
     "metadata": {},
     "output_type": "execute_result"
    }
   ],
   "source": [
    "display_score_metrics(gdbr_best_model, (y_pred_gdbr_best >= 0.3).astype(int), y_test)"
   ]
  },
  {
   "cell_type": "markdown",
   "metadata": {},
   "source": [
    "#### Confusion Matrix"
   ]
  },
  {
   "cell_type": "code",
   "execution_count": 116,
   "metadata": {},
   "outputs": [
    {
     "data": {
      "text/plain": [
       "(2423, 1245, 808, 5524)"
      ]
     },
     "execution_count": 116,
     "metadata": {},
     "output_type": "execute_result"
    }
   ],
   "source": [
    "# Confusion Matrix GBR\n",
    "true_neg, false_pos, false_neg, true_pos = confusion_matrix(y_test, (y_pred_gdbr_best >= 0.5).astype(int)).flatten()\n",
    "true_neg, false_pos, false_neg, true_pos"
   ]
  },
  {
   "cell_type": "markdown",
   "metadata": {},
   "source": [
    "BEFORE\n",
    "\n",
    "| -        |       Predicted Negative      |  Predicted Positive |\n",
    "| ------------- |:-------------:| -----:|\n",
    "| Actual Negative | 5409 (TN)  | 890 (FP)\n",
    "| Actual Positive | 1308 (FN) | 2393 (TP)"
   ]
  },
  {
   "cell_type": "markdown",
   "metadata": {},
   "source": [
    "AFTER\n",
    "\n",
    "\n",
    "| -        |       Predicted Negative      |  Predicted Positive |\n",
    "| ------------- |:-------------:| -----:|\n",
    "| Actual Negative | 2423 (TN)  | 1245 (FP)\n",
    "| Actual Positive | 808 (FN) | 5524 (TP)"
   ]
  },
  {
   "cell_type": "code",
   "execution_count": 117,
   "metadata": {},
   "outputs": [
    {
     "data": {
      "text/plain": [
       "0.8160732752252917"
      ]
     },
     "execution_count": 117,
     "metadata": {},
     "output_type": "execute_result"
    }
   ],
   "source": [
    "# Precision GBC\n",
    "precision = true_pos / (true_pos + false_pos)\n",
    "precision"
   ]
  },
  {
   "cell_type": "code",
   "execution_count": 118,
   "metadata": {},
   "outputs": [
    {
     "data": {
      "text/plain": [
       "0.8723941882501579"
      ]
     },
     "execution_count": 118,
     "metadata": {},
     "output_type": "execute_result"
    }
   ],
   "source": [
    "# Recall GBC\n",
    "recall = true_pos / (true_pos + false_neg)\n",
    "recall"
   ]
  }
 ],
 "metadata": {
  "kernelspec": {
   "display_name": "Python 3",
   "language": "python",
   "name": "python3"
  },
  "language_info": {
   "codemirror_mode": {
    "name": "ipython",
    "version": 3
   },
   "file_extension": ".py",
   "mimetype": "text/x-python",
   "name": "python",
   "nbconvert_exporter": "python",
   "pygments_lexer": "ipython3",
   "version": "3.7.6"
  },
  "widgets": {
   "application/vnd.jupyter.widget-state+json": {
    "state": {},
    "version_major": 2,
    "version_minor": 0
   }
  }
 },
 "nbformat": 4,
 "nbformat_minor": 4
}
